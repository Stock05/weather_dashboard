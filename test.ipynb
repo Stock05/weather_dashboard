{
 "cells": [
  {
   "cell_type": "code",
   "execution_count": 2,
   "metadata": {},
   "outputs": [
    {
     "name": "stdout",
     "output_type": "stream",
     "text": [
      "           col1       col2       col3\n",
      "row1  73.874706  59.137095  44.647740\n",
      "row2  84.790456  78.141618  59.929196\n",
      "row3  80.545813  78.746570  50.183806\n"
     ]
    }
   ],
   "source": [
    "import pandas as pd\n",
    "import numpy as np\n",
    "\n",
    "col = ['col1','col2','col3']\n",
    "row = ['row1','row2','row3']\n",
    "data = np.random.rand(3,3)*100\n",
    "df = pd.DataFrame(data=data, index=row, columns=col)\n",
    "print(df)"
   ]
  },
  {
   "cell_type": "code",
   "execution_count": 3,
   "metadata": {},
   "outputs": [
    {
     "data": {
      "text/html": [
       "<div>\n",
       "<style scoped>\n",
       "    .dataframe tbody tr th:only-of-type {\n",
       "        vertical-align: middle;\n",
       "    }\n",
       "\n",
       "    .dataframe tbody tr th {\n",
       "        vertical-align: top;\n",
       "    }\n",
       "\n",
       "    .dataframe thead th {\n",
       "        text-align: right;\n",
       "    }\n",
       "</style>\n",
       "<table border=\"1\" class=\"dataframe\">\n",
       "  <thead>\n",
       "    <tr style=\"text-align: right;\">\n",
       "      <th></th>\n",
       "      <th>col1</th>\n",
       "      <th>col2</th>\n",
       "      <th>col3</th>\n",
       "    </tr>\n",
       "  </thead>\n",
       "  <tbody>\n",
       "    <tr>\n",
       "      <th>row1</th>\n",
       "      <td>73.87</td>\n",
       "      <td>59.14</td>\n",
       "      <td>44.65</td>\n",
       "    </tr>\n",
       "    <tr>\n",
       "      <th>row2</th>\n",
       "      <td>84.79</td>\n",
       "      <td>78.14</td>\n",
       "      <td>59.93</td>\n",
       "    </tr>\n",
       "    <tr>\n",
       "      <th>row3</th>\n",
       "      <td>80.55</td>\n",
       "      <td>78.75</td>\n",
       "      <td>50.18</td>\n",
       "    </tr>\n",
       "  </tbody>\n",
       "</table>\n",
       "</div>"
      ],
      "text/plain": [
       "       col1   col2   col3\n",
       "row1  73.87  59.14  44.65\n",
       "row2  84.79  78.14  59.93\n",
       "row3  80.55  78.75  50.18"
      ]
     },
     "execution_count": 3,
     "metadata": {},
     "output_type": "execute_result"
    }
   ],
   "source": [
    "df.round(2)"
   ]
  },
  {
   "cell_type": "code",
   "execution_count": null,
   "metadata": {},
   "outputs": [],
   "source": [
    "df[['col1'],['col2']].round(2)"
   ]
  },
  {
   "cell_type": "code",
   "execution_count": 8,
   "metadata": {},
   "outputs": [
    {
     "name": "stdout",
     "output_type": "stream",
     "text": [
      "   cod  message  cnt                                               list  \\\n",
      "0  200        0   40  [{'dt': 1710471600, 'main': {'temp': 9.75, 'fe...   \n",
      "\n",
      "   city.id     city.name  city.coord.lat  city.coord.lon city.country  \\\n",
      "0  6800035  Banpobondong            37.5             127           KR   \n",
      "\n",
      "   city.population  city.timezone  city.sunrise  city.sunset  \n",
      "0                0          32400    1710452595   1710495523  \n"
     ]
    }
   ],
   "source": [
    "import streamlit as st\n",
    "import pandas as pd\n",
    "import matplotlib.pyplot as plt\n",
    "from streamlit_folium import st_folium\n",
    "from utility import *\n",
    "from matplotlib.cm import get_cmap\n",
    "import json\n",
    "\n",
    "path = \"data_kor.json\"  #파일의 경로\n",
    "\n",
    "def read_json_file(file_path):\n",
    "    with open(file_path, 'r') as file:\n",
    "        data = json.load(file)\n",
    "    return data\n",
    "\n",
    "\n",
    "data = read_json_file(path)    \n",
    "\n",
    "\n",
    "df = pd.json_normalize(data)\n",
    "print(df.head())\n",
    "#tmp = data.copy()"
   ]
  },
  {
   "cell_type": "code",
   "execution_count": 33,
   "metadata": {},
   "outputs": [
    {
     "name": "stdout",
     "output_type": "stream",
     "text": [
      "Empty DataFrame\n",
      "Columns: []\n",
      "Index: []\n"
     ]
    }
   ],
   "source": [
    "data_kor = read_json('data_kor.json')\n",
    "data_list = make_df(data_kor)\n",
    "df = pd.DataFrame(data_list)\n",
    "tmp = df.copy()\n",
    "print(df)\n"
   ]
  },
  {
   "cell_type": "code",
   "execution_count": 13,
   "metadata": {},
   "outputs": [
    {
     "name": "stdout",
     "output_type": "stream",
     "text": [
      "19\n"
     ]
    }
   ],
   "source": [
    "test = '2024-03-15 12:00:00'\n",
    "\n",
    "print(len(test))"
   ]
  },
  {
   "cell_type": "code",
   "execution_count": 17,
   "metadata": {},
   "outputs": [
    {
     "name": "stdout",
     "output_type": "stream",
     "text": [
      "15\n"
     ]
    }
   ],
   "source": [
    "print(test[8:10])"
   ]
  },
  {
   "cell_type": "code",
   "execution_count": 20,
   "metadata": {},
   "outputs": [
    {
     "name": "stdout",
     "output_type": "stream",
     "text": [
      "12\n"
     ]
    }
   ],
   "source": [
    "print(test[11:13])"
   ]
  },
  {
   "cell_type": "code",
   "execution_count": 31,
   "metadata": {},
   "outputs": [
    {
     "data": {
      "text/html": [
       "<div>\n",
       "<style scoped>\n",
       "    .dataframe tbody tr th:only-of-type {\n",
       "        vertical-align: middle;\n",
       "    }\n",
       "\n",
       "    .dataframe tbody tr th {\n",
       "        vertical-align: top;\n",
       "    }\n",
       "\n",
       "    .dataframe thead th {\n",
       "        text-align: right;\n",
       "    }\n",
       "</style>\n",
       "<table border=\"1\" class=\"dataframe\">\n",
       "  <thead>\n",
       "    <tr style=\"text-align: right;\">\n",
       "      <th></th>\n",
       "    </tr>\n",
       "  </thead>\n",
       "  <tbody>\n",
       "  </tbody>\n",
       "</table>\n",
       "</div>"
      ],
      "text/plain": [
       "Empty DataFrame\n",
       "Columns: []\n",
       "Index: []"
      ]
     },
     "execution_count": 31,
     "metadata": {},
     "output_type": "execute_result"
    }
   ],
   "source": [
    "df"
   ]
  },
  {
   "cell_type": "code",
   "execution_count": 30,
   "metadata": {},
   "outputs": [
    {
     "data": {
      "text/plain": [
       "RangeIndex(start=0, stop=0, step=1)"
      ]
     },
     "execution_count": 30,
     "metadata": {},
     "output_type": "execute_result"
    }
   ],
   "source": [
    "tmp.columns"
   ]
  },
  {
   "cell_type": "code",
   "execution_count": 34,
   "metadata": {},
   "outputs": [
    {
     "name": "stdout",
     "output_type": "stream",
     "text": [
      "Collecting geopy\n",
      "  Downloading geopy-2.4.1-py3-none-any.whl.metadata (6.8 kB)\n",
      "Collecting geographiclib<3,>=1.52 (from geopy)\n",
      "  Downloading geographiclib-2.0-py3-none-any.whl.metadata (1.4 kB)\n",
      "Downloading geopy-2.4.1-py3-none-any.whl (125 kB)\n",
      "   ---------------------------------------- 0.0/125.4 kB ? eta -:--:--\n",
      "   ---------------------------------------- 0.0/125.4 kB ? eta -:--:--\n",
      "   --------- ----------------------------- 30.7/125.4 kB 445.2 kB/s eta 0:00:01\n",
      "   ---------------------------------------  122.9/125.4 kB 1.2 MB/s eta 0:00:01\n",
      "   ---------------------------------------- 125.4/125.4 kB 1.1 MB/s eta 0:00:00\n",
      "Downloading geographiclib-2.0-py3-none-any.whl (40 kB)\n",
      "   ---------------------------------------- 0.0/40.3 kB ? eta -:--:--\n",
      "   ---------------------------------------- 40.3/40.3 kB 2.0 MB/s eta 0:00:00\n",
      "Installing collected packages: geographiclib, geopy\n",
      "Successfully installed geographiclib-2.0 geopy-2.4.1\n",
      "Note: you may need to restart the kernel to use updated packages.\n"
     ]
    }
   ],
   "source": [
    "pip install geopy\n"
   ]
  },
  {
   "cell_type": "code",
   "execution_count": 35,
   "metadata": {},
   "outputs": [
    {
     "name": "stdout",
     "output_type": "stream",
     "text": [
      "Requirement already satisfied: streamlit-folium in c:\\users\\aa\\.conda\\envs\\myenv\\lib\\site-packages (0.18.0)\n",
      "Requirement already satisfied: streamlit>=1.13.0 in c:\\users\\aa\\.conda\\envs\\myenv\\lib\\site-packages (from streamlit-folium) (1.31.1)\n",
      "Requirement already satisfied: folium!=0.15.0,>=0.13 in c:\\users\\aa\\.conda\\envs\\myenv\\lib\\site-packages (from streamlit-folium) (0.16.0)\n",
      "Requirement already satisfied: jinja2 in c:\\users\\aa\\.conda\\envs\\myenv\\lib\\site-packages (from streamlit-folium) (3.1.3)\n",
      "Requirement already satisfied: branca in c:\\users\\aa\\.conda\\envs\\myenv\\lib\\site-packages (from streamlit-folium) (0.7.1)\n",
      "Requirement already satisfied: numpy in c:\\users\\aa\\.conda\\envs\\myenv\\lib\\site-packages (from folium!=0.15.0,>=0.13->streamlit-folium) (1.26.4)\n",
      "Requirement already satisfied: requests in c:\\users\\aa\\.conda\\envs\\myenv\\lib\\site-packages (from folium!=0.15.0,>=0.13->streamlit-folium) (2.31.0)\n",
      "Requirement already satisfied: xyzservices in c:\\users\\aa\\.conda\\envs\\myenv\\lib\\site-packages (from folium!=0.15.0,>=0.13->streamlit-folium) (2023.10.1)\n",
      "Requirement already satisfied: MarkupSafe>=2.0 in c:\\users\\aa\\.conda\\envs\\myenv\\lib\\site-packages (from jinja2->streamlit-folium) (2.1.5)\n",
      "Requirement already satisfied: altair<6,>=4.0 in c:\\users\\aa\\.conda\\envs\\myenv\\lib\\site-packages (from streamlit>=1.13.0->streamlit-folium) (5.2.0)\n",
      "Requirement already satisfied: blinker<2,>=1.0.0 in c:\\users\\aa\\.conda\\envs\\myenv\\lib\\site-packages (from streamlit>=1.13.0->streamlit-folium) (1.7.0)\n",
      "Requirement already satisfied: cachetools<6,>=4.0 in c:\\users\\aa\\.conda\\envs\\myenv\\lib\\site-packages (from streamlit>=1.13.0->streamlit-folium) (5.3.3)\n",
      "Requirement already satisfied: click<9,>=7.0 in c:\\users\\aa\\.conda\\envs\\myenv\\lib\\site-packages (from streamlit>=1.13.0->streamlit-folium) (8.1.7)\n",
      "Requirement already satisfied: importlib-metadata<8,>=1.4 in c:\\users\\aa\\.conda\\envs\\myenv\\lib\\site-packages (from streamlit>=1.13.0->streamlit-folium) (7.0.1)\n",
      "Requirement already satisfied: packaging<24,>=16.8 in c:\\users\\aa\\.conda\\envs\\myenv\\lib\\site-packages (from streamlit>=1.13.0->streamlit-folium) (23.2)\n",
      "Requirement already satisfied: pandas<3,>=1.3.0 in c:\\users\\aa\\.conda\\envs\\myenv\\lib\\site-packages (from streamlit>=1.13.0->streamlit-folium) (2.2.1)\n",
      "Requirement already satisfied: pillow<11,>=7.1.0 in c:\\users\\aa\\.conda\\envs\\myenv\\lib\\site-packages (from streamlit>=1.13.0->streamlit-folium) (10.2.0)\n",
      "Requirement already satisfied: protobuf<5,>=3.20 in c:\\users\\aa\\.conda\\envs\\myenv\\lib\\site-packages (from streamlit>=1.13.0->streamlit-folium) (3.20.3)\n",
      "Requirement already satisfied: pyarrow>=7.0 in c:\\users\\aa\\.conda\\envs\\myenv\\lib\\site-packages (from streamlit>=1.13.0->streamlit-folium) (15.0.0)\n",
      "Requirement already satisfied: python-dateutil<3,>=2.7.3 in c:\\users\\aa\\.conda\\envs\\myenv\\lib\\site-packages (from streamlit>=1.13.0->streamlit-folium) (2.8.2)\n",
      "Requirement already satisfied: rich<14,>=10.14.0 in c:\\users\\aa\\.conda\\envs\\myenv\\lib\\site-packages (from streamlit>=1.13.0->streamlit-folium) (13.7.1)\n",
      "Requirement already satisfied: tenacity<9,>=8.1.0 in c:\\users\\aa\\.conda\\envs\\myenv\\lib\\site-packages (from streamlit>=1.13.0->streamlit-folium) (8.2.3)\n",
      "Requirement already satisfied: toml<2,>=0.10.1 in c:\\users\\aa\\.conda\\envs\\myenv\\lib\\site-packages (from streamlit>=1.13.0->streamlit-folium) (0.10.2)\n",
      "Requirement already satisfied: typing-extensions<5,>=4.3.0 in c:\\users\\aa\\.conda\\envs\\myenv\\lib\\site-packages (from streamlit>=1.13.0->streamlit-folium) (4.9.0)\n",
      "Requirement already satisfied: tzlocal<6,>=1.1 in c:\\users\\aa\\.conda\\envs\\myenv\\lib\\site-packages (from streamlit>=1.13.0->streamlit-folium) (5.2)\n",
      "Requirement already satisfied: validators<1,>=0.2 in c:\\users\\aa\\.conda\\envs\\myenv\\lib\\site-packages (from streamlit>=1.13.0->streamlit-folium) (0.22.0)\n",
      "Requirement already satisfied: gitpython!=3.1.19,<4,>=3.0.7 in c:\\users\\aa\\.conda\\envs\\myenv\\lib\\site-packages (from streamlit>=1.13.0->streamlit-folium) (3.1.42)\n",
      "Requirement already satisfied: pydeck<1,>=0.8.0b4 in c:\\users\\aa\\.conda\\envs\\myenv\\lib\\site-packages (from streamlit>=1.13.0->streamlit-folium) (0.8.1b0)\n",
      "Requirement already satisfied: tornado<7,>=6.0.3 in c:\\users\\aa\\.conda\\envs\\myenv\\lib\\site-packages (from streamlit>=1.13.0->streamlit-folium) (6.4)\n",
      "Requirement already satisfied: watchdog>=2.1.5 in c:\\users\\aa\\.conda\\envs\\myenv\\lib\\site-packages (from streamlit>=1.13.0->streamlit-folium) (4.0.0)\n",
      "Requirement already satisfied: jsonschema>=3.0 in c:\\users\\aa\\.conda\\envs\\myenv\\lib\\site-packages (from altair<6,>=4.0->streamlit>=1.13.0->streamlit-folium) (4.21.1)\n",
      "Requirement already satisfied: toolz in c:\\users\\aa\\.conda\\envs\\myenv\\lib\\site-packages (from altair<6,>=4.0->streamlit>=1.13.0->streamlit-folium) (0.12.1)\n",
      "Requirement already satisfied: colorama in c:\\users\\aa\\.conda\\envs\\myenv\\lib\\site-packages (from click<9,>=7.0->streamlit>=1.13.0->streamlit-folium) (0.4.6)\n",
      "Requirement already satisfied: gitdb<5,>=4.0.1 in c:\\users\\aa\\.conda\\envs\\myenv\\lib\\site-packages (from gitpython!=3.1.19,<4,>=3.0.7->streamlit>=1.13.0->streamlit-folium) (4.0.11)\n",
      "Requirement already satisfied: zipp>=0.5 in c:\\users\\aa\\.conda\\envs\\myenv\\lib\\site-packages (from importlib-metadata<8,>=1.4->streamlit>=1.13.0->streamlit-folium) (3.17.0)\n",
      "Requirement already satisfied: pytz>=2020.1 in c:\\users\\aa\\.conda\\envs\\myenv\\lib\\site-packages (from pandas<3,>=1.3.0->streamlit>=1.13.0->streamlit-folium) (2024.1)\n",
      "Requirement already satisfied: tzdata>=2022.7 in c:\\users\\aa\\.conda\\envs\\myenv\\lib\\site-packages (from pandas<3,>=1.3.0->streamlit>=1.13.0->streamlit-folium) (2024.1)\n",
      "Requirement already satisfied: six>=1.5 in c:\\users\\aa\\.conda\\envs\\myenv\\lib\\site-packages (from python-dateutil<3,>=2.7.3->streamlit>=1.13.0->streamlit-folium) (1.16.0)\n",
      "Requirement already satisfied: charset-normalizer<4,>=2 in c:\\users\\aa\\.conda\\envs\\myenv\\lib\\site-packages (from requests->folium!=0.15.0,>=0.13->streamlit-folium) (3.3.2)\n",
      "Requirement already satisfied: idna<4,>=2.5 in c:\\users\\aa\\.conda\\envs\\myenv\\lib\\site-packages (from requests->folium!=0.15.0,>=0.13->streamlit-folium) (2.10)\n",
      "Requirement already satisfied: urllib3<3,>=1.21.1 in c:\\users\\aa\\.conda\\envs\\myenv\\lib\\site-packages (from requests->folium!=0.15.0,>=0.13->streamlit-folium) (2.2.1)\n",
      "Requirement already satisfied: certifi>=2017.4.17 in c:\\users\\aa\\.conda\\envs\\myenv\\lib\\site-packages (from requests->folium!=0.15.0,>=0.13->streamlit-folium) (2024.2.2)\n",
      "Requirement already satisfied: markdown-it-py>=2.2.0 in c:\\users\\aa\\.conda\\envs\\myenv\\lib\\site-packages (from rich<14,>=10.14.0->streamlit>=1.13.0->streamlit-folium) (3.0.0)\n",
      "Requirement already satisfied: pygments<3.0.0,>=2.13.0 in c:\\users\\aa\\.conda\\envs\\myenv\\lib\\site-packages (from rich<14,>=10.14.0->streamlit>=1.13.0->streamlit-folium) (2.17.2)\n",
      "Requirement already satisfied: smmap<6,>=3.0.1 in c:\\users\\aa\\.conda\\envs\\myenv\\lib\\site-packages (from gitdb<5,>=4.0.1->gitpython!=3.1.19,<4,>=3.0.7->streamlit>=1.13.0->streamlit-folium) (5.0.1)\n",
      "Requirement already satisfied: attrs>=22.2.0 in c:\\users\\aa\\.conda\\envs\\myenv\\lib\\site-packages (from jsonschema>=3.0->altair<6,>=4.0->streamlit>=1.13.0->streamlit-folium) (23.2.0)\n",
      "Requirement already satisfied: jsonschema-specifications>=2023.03.6 in c:\\users\\aa\\.conda\\envs\\myenv\\lib\\site-packages (from jsonschema>=3.0->altair<6,>=4.0->streamlit>=1.13.0->streamlit-folium) (2023.12.1)\n",
      "Requirement already satisfied: referencing>=0.28.4 in c:\\users\\aa\\.conda\\envs\\myenv\\lib\\site-packages (from jsonschema>=3.0->altair<6,>=4.0->streamlit>=1.13.0->streamlit-folium) (0.33.0)\n",
      "Requirement already satisfied: rpds-py>=0.7.1 in c:\\users\\aa\\.conda\\envs\\myenv\\lib\\site-packages (from jsonschema>=3.0->altair<6,>=4.0->streamlit>=1.13.0->streamlit-folium) (0.18.0)\n",
      "Requirement already satisfied: mdurl~=0.1 in c:\\users\\aa\\.conda\\envs\\myenv\\lib\\site-packages (from markdown-it-py>=2.2.0->rich<14,>=10.14.0->streamlit>=1.13.0->streamlit-folium) (0.1.2)\n",
      "Note: you may need to restart the kernel to use updated packages.\n"
     ]
    }
   ],
   "source": [
    "pip install streamlit-folium"
   ]
  },
  {
   "cell_type": "code",
   "execution_count": 36,
   "metadata": {},
   "outputs": [
    {
     "name": "stdout",
     "output_type": "stream",
     "text": [
      "Requirement already satisfied: certifi in c:\\users\\aa\\.conda\\envs\\myenv\\lib\\site-packages (2024.2.2)Note: you may need to restart the kernel to use updated packages.\n",
      "\n"
     ]
    }
   ],
   "source": [
    "pip install --upgrade certifi"
   ]
  },
  {
   "cell_type": "code",
   "execution_count": 39,
   "metadata": {},
   "outputs": [
    {
     "ename": "ConfigurationError",
     "evalue": "Using Nominatim with default or sample `user_agent` \"specify_your_app_name_here\" is strongly discouraged, as it violates Nominatim's ToS https://operations.osmfoundation.org/policies/nominatim/ and may possibly cause 403 and 429 HTTP errors. Please specify a custom `user_agent` with `Nominatim(user_agent=\"my-application\")` or by overriding the default `user_agent`: `geopy.geocoders.options.default_user_agent = \"my-application\"`.",
     "output_type": "error",
     "traceback": [
      "\u001b[1;31m---------------------------------------------------------------------------\u001b[0m",
      "\u001b[1;31mConfigurationError\u001b[0m                        Traceback (most recent call last)",
      "Cell \u001b[1;32mIn[39], line 2\u001b[0m\n\u001b[0;32m      1\u001b[0m \u001b[38;5;28;01mfrom\u001b[39;00m \u001b[38;5;21;01mgeopy\u001b[39;00m\u001b[38;5;21;01m.\u001b[39;00m\u001b[38;5;21;01mgeocoders\u001b[39;00m \u001b[38;5;28;01mimport\u001b[39;00m Nominatim\n\u001b[1;32m----> 2\u001b[0m geolocator \u001b[38;5;241m=\u001b[39m \u001b[43mNominatim\u001b[49m\u001b[43m(\u001b[49m\u001b[43muser_agent\u001b[49m\u001b[38;5;241;43m=\u001b[39;49m\u001b[38;5;124;43m\"\u001b[39;49m\u001b[38;5;124;43mspecify_your_app_name_here\u001b[39;49m\u001b[38;5;124;43m\"\u001b[39;49m\u001b[43m)\u001b[49m\n\u001b[0;32m      3\u001b[0m location \u001b[38;5;241m=\u001b[39m geolocator\u001b[38;5;241m.\u001b[39mgeocode(\u001b[38;5;124m\"\u001b[39m\u001b[38;5;124m175 5th Avenue NYC\u001b[39m\u001b[38;5;124m\"\u001b[39m)\n\u001b[0;32m      4\u001b[0m \u001b[38;5;28mprint\u001b[39m(location\u001b[38;5;241m.\u001b[39maddress)\n",
      "File \u001b[1;32mc:\\Users\\Aa\\.conda\\envs\\myenv\\lib\\site-packages\\geopy\\geocoders\\nominatim.py:105\u001b[0m, in \u001b[0;36mNominatim.__init__\u001b[1;34m(self, timeout, proxies, domain, scheme, user_agent, ssl_context, adapter_factory)\u001b[0m\n\u001b[0;32m    101\u001b[0m \u001b[38;5;28mself\u001b[39m\u001b[38;5;241m.\u001b[39mdomain \u001b[38;5;241m=\u001b[39m domain\u001b[38;5;241m.\u001b[39mstrip(\u001b[38;5;124m'\u001b[39m\u001b[38;5;124m/\u001b[39m\u001b[38;5;124m'\u001b[39m)\n\u001b[0;32m    103\u001b[0m \u001b[38;5;28;01mif\u001b[39;00m (\u001b[38;5;28mself\u001b[39m\u001b[38;5;241m.\u001b[39mdomain \u001b[38;5;241m==\u001b[39m _DEFAULT_NOMINATIM_DOMAIN\n\u001b[0;32m    104\u001b[0m         \u001b[38;5;129;01mand\u001b[39;00m \u001b[38;5;28mself\u001b[39m\u001b[38;5;241m.\u001b[39mheaders[\u001b[38;5;124m'\u001b[39m\u001b[38;5;124mUser-Agent\u001b[39m\u001b[38;5;124m'\u001b[39m] \u001b[38;5;129;01min\u001b[39;00m _REJECTED_USER_AGENTS):\n\u001b[1;32m--> 105\u001b[0m     \u001b[38;5;28;01mraise\u001b[39;00m ConfigurationError(\n\u001b[0;32m    106\u001b[0m         \u001b[38;5;124m'\u001b[39m\u001b[38;5;124mUsing Nominatim with default or sample `user_agent` \u001b[39m\u001b[38;5;124m\"\u001b[39m\u001b[38;5;132;01m%s\u001b[39;00m\u001b[38;5;124m\"\u001b[39m\u001b[38;5;124m is \u001b[39m\u001b[38;5;124m'\u001b[39m\n\u001b[0;32m    107\u001b[0m         \u001b[38;5;124m'\u001b[39m\u001b[38;5;124mstrongly discouraged, as it violates Nominatim\u001b[39m\u001b[38;5;130;01m\\'\u001b[39;00m\u001b[38;5;124ms ToS \u001b[39m\u001b[38;5;124m'\u001b[39m\n\u001b[0;32m    108\u001b[0m         \u001b[38;5;124m'\u001b[39m\u001b[38;5;124mhttps://operations.osmfoundation.org/policies/nominatim/ \u001b[39m\u001b[38;5;124m'\u001b[39m\n\u001b[0;32m    109\u001b[0m         \u001b[38;5;124m'\u001b[39m\u001b[38;5;124mand may possibly cause 403 and 429 HTTP errors. \u001b[39m\u001b[38;5;124m'\u001b[39m\n\u001b[0;32m    110\u001b[0m         \u001b[38;5;124m'\u001b[39m\u001b[38;5;124mPlease specify a custom `user_agent` with \u001b[39m\u001b[38;5;124m'\u001b[39m\n\u001b[0;32m    111\u001b[0m         \u001b[38;5;124m'\u001b[39m\u001b[38;5;124m`Nominatim(user_agent=\u001b[39m\u001b[38;5;124m\"\u001b[39m\u001b[38;5;124mmy-application\u001b[39m\u001b[38;5;124m\"\u001b[39m\u001b[38;5;124m)` or by \u001b[39m\u001b[38;5;124m'\u001b[39m\n\u001b[0;32m    112\u001b[0m         \u001b[38;5;124m'\u001b[39m\u001b[38;5;124moverriding the default `user_agent`: \u001b[39m\u001b[38;5;124m'\u001b[39m\n\u001b[0;32m    113\u001b[0m         \u001b[38;5;124m'\u001b[39m\u001b[38;5;124m`geopy.geocoders.options.default_user_agent = \u001b[39m\u001b[38;5;124m\"\u001b[39m\u001b[38;5;124mmy-application\u001b[39m\u001b[38;5;124m\"\u001b[39m\u001b[38;5;124m`.\u001b[39m\u001b[38;5;124m'\u001b[39m\n\u001b[0;32m    114\u001b[0m         \u001b[38;5;241m%\u001b[39m \u001b[38;5;28mself\u001b[39m\u001b[38;5;241m.\u001b[39mheaders[\u001b[38;5;124m'\u001b[39m\u001b[38;5;124mUser-Agent\u001b[39m\u001b[38;5;124m'\u001b[39m]\n\u001b[0;32m    115\u001b[0m     )\n\u001b[0;32m    117\u001b[0m \u001b[38;5;28mself\u001b[39m\u001b[38;5;241m.\u001b[39mapi \u001b[38;5;241m=\u001b[39m \u001b[38;5;124m\"\u001b[39m\u001b[38;5;132;01m%s\u001b[39;00m\u001b[38;5;124m://\u001b[39m\u001b[38;5;132;01m%s\u001b[39;00m\u001b[38;5;132;01m%s\u001b[39;00m\u001b[38;5;124m\"\u001b[39m \u001b[38;5;241m%\u001b[39m (\u001b[38;5;28mself\u001b[39m\u001b[38;5;241m.\u001b[39mscheme, \u001b[38;5;28mself\u001b[39m\u001b[38;5;241m.\u001b[39mdomain, \u001b[38;5;28mself\u001b[39m\u001b[38;5;241m.\u001b[39mgeocode_path)\n\u001b[0;32m    118\u001b[0m \u001b[38;5;28mself\u001b[39m\u001b[38;5;241m.\u001b[39mreverse_api \u001b[38;5;241m=\u001b[39m \u001b[38;5;124m\"\u001b[39m\u001b[38;5;132;01m%s\u001b[39;00m\u001b[38;5;124m://\u001b[39m\u001b[38;5;132;01m%s\u001b[39;00m\u001b[38;5;132;01m%s\u001b[39;00m\u001b[38;5;124m\"\u001b[39m \u001b[38;5;241m%\u001b[39m (\u001b[38;5;28mself\u001b[39m\u001b[38;5;241m.\u001b[39mscheme, \u001b[38;5;28mself\u001b[39m\u001b[38;5;241m.\u001b[39mdomain, \u001b[38;5;28mself\u001b[39m\u001b[38;5;241m.\u001b[39mreverse_path)\n",
      "\u001b[1;31mConfigurationError\u001b[0m: Using Nominatim with default or sample `user_agent` \"specify_your_app_name_here\" is strongly discouraged, as it violates Nominatim's ToS https://operations.osmfoundation.org/policies/nominatim/ and may possibly cause 403 and 429 HTTP errors. Please specify a custom `user_agent` with `Nominatim(user_agent=\"my-application\")` or by overriding the default `user_agent`: `geopy.geocoders.options.default_user_agent = \"my-application\"`."
     ]
    }
   ],
   "source": [
    "from geopy.geocoders import Nominatim\n",
    "geolocator = Nominatim(user_agent=\"my_applycation\")\n",
    "location = geolocator.geocode(\"175 5th Avenue NYC\")\n",
    "print(location.address)\n",
    "print((location.latitude, location.longitude))\n",
    "print(location.raw)"
   ]
  }
 ],
 "metadata": {
  "kernelspec": {
   "display_name": "myenv",
   "language": "python",
   "name": "python3"
  },
  "language_info": {
   "codemirror_mode": {
    "name": "ipython",
    "version": 3
   },
   "file_extension": ".py",
   "mimetype": "text/x-python",
   "name": "python",
   "nbconvert_exporter": "python",
   "pygments_lexer": "ipython3",
   "version": "3.10.13"
  }
 },
 "nbformat": 4,
 "nbformat_minor": 2
}
